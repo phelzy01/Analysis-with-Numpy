{
 "cells": [
  {
   "cell_type": "code",
   "execution_count": null,
   "id": "c5846f5a",
   "metadata": {},
   "outputs": [],
   "source": [
    "#use us_births data to compute the following using np:\n",
    "    #extract the year, gender and births column from the data\n",
    "    #compute the aggregation of sum of total birth, sum of female birth and sum of male birth, mean and median\n",
    "    #compute the maximum births and minimum births\n",
    "    #indicate the gender with minimum birth and maximum birth\n",
    "    #indicate the year with minimum birth and maximum birth"
   ]
  },
  {
   "cell_type": "code",
   "execution_count": 1,
   "id": "018cf2e1",
   "metadata": {},
   "outputs": [
    {
     "data": {
      "text/html": [
       "<div>\n",
       "<style scoped>\n",
       "    .dataframe tbody tr th:only-of-type {\n",
       "        vertical-align: middle;\n",
       "    }\n",
       "\n",
       "    .dataframe tbody tr th {\n",
       "        vertical-align: top;\n",
       "    }\n",
       "\n",
       "    .dataframe thead th {\n",
       "        text-align: right;\n",
       "    }\n",
       "</style>\n",
       "<table border=\"1\" class=\"dataframe\">\n",
       "  <thead>\n",
       "    <tr style=\"text-align: right;\">\n",
       "      <th></th>\n",
       "      <th>year</th>\n",
       "      <th>month</th>\n",
       "      <th>day</th>\n",
       "      <th>gender</th>\n",
       "      <th>births</th>\n",
       "    </tr>\n",
       "  </thead>\n",
       "  <tbody>\n",
       "    <tr>\n",
       "      <th>0</th>\n",
       "      <td>1969</td>\n",
       "      <td>1</td>\n",
       "      <td>1.0</td>\n",
       "      <td>F</td>\n",
       "      <td>4046</td>\n",
       "    </tr>\n",
       "    <tr>\n",
       "      <th>1</th>\n",
       "      <td>1969</td>\n",
       "      <td>1</td>\n",
       "      <td>1.0</td>\n",
       "      <td>M</td>\n",
       "      <td>4440</td>\n",
       "    </tr>\n",
       "    <tr>\n",
       "      <th>2</th>\n",
       "      <td>1969</td>\n",
       "      <td>1</td>\n",
       "      <td>2.0</td>\n",
       "      <td>F</td>\n",
       "      <td>4454</td>\n",
       "    </tr>\n",
       "    <tr>\n",
       "      <th>3</th>\n",
       "      <td>1969</td>\n",
       "      <td>1</td>\n",
       "      <td>2.0</td>\n",
       "      <td>M</td>\n",
       "      <td>4548</td>\n",
       "    </tr>\n",
       "    <tr>\n",
       "      <th>4</th>\n",
       "      <td>1969</td>\n",
       "      <td>1</td>\n",
       "      <td>3.0</td>\n",
       "      <td>F</td>\n",
       "      <td>4548</td>\n",
       "    </tr>\n",
       "  </tbody>\n",
       "</table>\n",
       "</div>"
      ],
      "text/plain": [
       "   year  month  day gender  births\n",
       "0  1969      1  1.0      F    4046\n",
       "1  1969      1  1.0      M    4440\n",
       "2  1969      1  2.0      F    4454\n",
       "3  1969      1  2.0      M    4548\n",
       "4  1969      1  3.0      F    4548"
      ]
     },
     "execution_count": 1,
     "metadata": {},
     "output_type": "execute_result"
    }
   ],
   "source": [
    "import numpy as np\n",
    "import pandas as pd\n",
    "us_births = pd.read_csv(\"C:\\\\Users\\\\owner\\\\OneDrive\\\\Desktop\\\\sqi\\\\DATA SCIENCE\\\\Datasets\\\\us_births.csv\")\n",
    "us_births.head()\n"
   ]
  },
  {
   "cell_type": "code",
   "execution_count": 2,
   "id": "89aadfd1",
   "metadata": {},
   "outputs": [
    {
     "name": "stdout",
     "output_type": "stream",
     "text": [
      "Year of birth\n",
      " [1969 1969 1969 ... 2008 2008 2008] \n",
      "\n",
      "Gender\n",
      " ['F' 'M' 'F' ... 'M' 'F' 'M'] \n",
      "\n",
      "Births\n",
      " [  4046   4440   4454 ... 165468 173215 181235] \n",
      "\n"
     ]
    }
   ],
   "source": [
    "us_year = np.array(us_births['year'])\n",
    "us_gender = np.array(us_births['gender'])\n",
    "us_b = np.array(us_births['births'])\n",
    "print('Year of birth\\n',us_year,'\\n')\n",
    "print('Gender\\n', us_gender,'\\n')\n",
    "print('Births\\n', us_b,'\\n')"
   ]
  },
  {
   "cell_type": "code",
   "execution_count": 10,
   "id": "60f674f1",
   "metadata": {},
   "outputs": [
    {
     "name": "stdout",
     "output_type": "stream",
     "text": [
      "Sum of total births:  151774378\n",
      "Sum of female births:  74035823\n",
      "Sum of male births:  77738555\n",
      "mean:  9762.293561458802\n",
      "Median:  4814.0\n"
     ]
    }
   ],
   "source": [
    "print('Sum of total births: ', us_b.sum())\n",
    "print('Sum of female births: ',vvs_fb.sum())\n",
    "print('Sum of male births: ',vvv_mb.sum())\n",
    "print('mean: ', us_b.mean())\n",
    "print('Median: ',np.median(us_b))"
   ]
  },
  {
   "cell_type": "code",
   "execution_count": 9,
   "id": "52142289",
   "metadata": {},
   "outputs": [
    {
     "name": "stdout",
     "output_type": "stream",
     "text": [
      "Maximum birth:  199622\n",
      "Minimum birth:  1\n",
      "gender with maximum birth:  M\n",
      "gender with minimum birth:  F\n",
      "Year with maximum birth:  2007\n",
      "Year with minimum birth:  1975\n"
     ]
    }
   ],
   "source": [
    "# print(us_b.argmax())\n",
    "# print(us_b.argmin())\n",
    "print('Maximum birth: ', us_b[15514])\n",
    "print('Minimum birth: ',us_b[4715])\n",
    "print('gender with maximum birth: ',us_gender[15514])\n",
    "print('gender with minimum birth: ',us_gender[4715])\n",
    "print('Year with maximum birth: ',us_year[15514])\n",
    "print('Year with minimum birth: ',us_year[4715])\n"
   ]
  },
  {
   "cell_type": "code",
   "execution_count": 28,
   "id": "bd955142",
   "metadata": {},
   "outputs": [
    {
     "name": "stdout",
     "output_type": "stream",
     "text": [
      "0        F\n",
      "1        M\n",
      "2        F\n",
      "3        M\n",
      "4        F\n",
      "        ..\n",
      "15542    M\n",
      "15543    F\n",
      "15544    M\n",
      "15545    F\n",
      "15546    M\n",
      "Name: gender, Length: 15547, dtype: object \n",
      "\n",
      "   year  month  day gender  births\n",
      "1  1969      1  1.0      M    4440\n",
      "3  1969      1  2.0      M    4548\n",
      "5  1969      1  3.0      M    4994\n",
      "7  1969      1  4.0      M    4520\n",
      "9  1969      1  5.0      M    4198\n"
     ]
    }
   ],
   "source": [
    "print(us_births.gender,'\\n')\n",
    "print(vvv.iloc[:5])"
   ]
  },
  {
   "cell_type": "code",
   "execution_count": 4,
   "id": "e0182679",
   "metadata": {},
   "outputs": [
    {
     "data": {
      "text/html": [
       "<div>\n",
       "<style scoped>\n",
       "    .dataframe tbody tr th:only-of-type {\n",
       "        vertical-align: middle;\n",
       "    }\n",
       "\n",
       "    .dataframe tbody tr th {\n",
       "        vertical-align: top;\n",
       "    }\n",
       "\n",
       "    .dataframe thead th {\n",
       "        text-align: right;\n",
       "    }\n",
       "</style>\n",
       "<table border=\"1\" class=\"dataframe\">\n",
       "  <thead>\n",
       "    <tr style=\"text-align: right;\">\n",
       "      <th></th>\n",
       "      <th>year</th>\n",
       "      <th>month</th>\n",
       "      <th>day</th>\n",
       "      <th>gender</th>\n",
       "      <th>births</th>\n",
       "    </tr>\n",
       "  </thead>\n",
       "  <tbody>\n",
       "    <tr>\n",
       "      <th>0</th>\n",
       "      <td>1969</td>\n",
       "      <td>1</td>\n",
       "      <td>1.0</td>\n",
       "      <td>F</td>\n",
       "      <td>4046</td>\n",
       "    </tr>\n",
       "    <tr>\n",
       "      <th>2</th>\n",
       "      <td>1969</td>\n",
       "      <td>1</td>\n",
       "      <td>2.0</td>\n",
       "      <td>F</td>\n",
       "      <td>4454</td>\n",
       "    </tr>\n",
       "    <tr>\n",
       "      <th>4</th>\n",
       "      <td>1969</td>\n",
       "      <td>1</td>\n",
       "      <td>3.0</td>\n",
       "      <td>F</td>\n",
       "      <td>4548</td>\n",
       "    </tr>\n",
       "    <tr>\n",
       "      <th>6</th>\n",
       "      <td>1969</td>\n",
       "      <td>1</td>\n",
       "      <td>4.0</td>\n",
       "      <td>F</td>\n",
       "      <td>4440</td>\n",
       "    </tr>\n",
       "    <tr>\n",
       "      <th>8</th>\n",
       "      <td>1969</td>\n",
       "      <td>1</td>\n",
       "      <td>5.0</td>\n",
       "      <td>F</td>\n",
       "      <td>4192</td>\n",
       "    </tr>\n",
       "    <tr>\n",
       "      <th>...</th>\n",
       "      <td>...</td>\n",
       "      <td>...</td>\n",
       "      <td>...</td>\n",
       "      <td>...</td>\n",
       "      <td>...</td>\n",
       "    </tr>\n",
       "    <tr>\n",
       "      <th>15537</th>\n",
       "      <td>2008</td>\n",
       "      <td>8</td>\n",
       "      <td>NaN</td>\n",
       "      <td>F</td>\n",
       "      <td>182713</td>\n",
       "    </tr>\n",
       "    <tr>\n",
       "      <th>15539</th>\n",
       "      <td>2008</td>\n",
       "      <td>9</td>\n",
       "      <td>NaN</td>\n",
       "      <td>F</td>\n",
       "      <td>179696</td>\n",
       "    </tr>\n",
       "    <tr>\n",
       "      <th>15541</th>\n",
       "      <td>2008</td>\n",
       "      <td>10</td>\n",
       "      <td>NaN</td>\n",
       "      <td>F</td>\n",
       "      <td>175314</td>\n",
       "    </tr>\n",
       "    <tr>\n",
       "      <th>15543</th>\n",
       "      <td>2008</td>\n",
       "      <td>11</td>\n",
       "      <td>NaN</td>\n",
       "      <td>F</td>\n",
       "      <td>158939</td>\n",
       "    </tr>\n",
       "    <tr>\n",
       "      <th>15545</th>\n",
       "      <td>2008</td>\n",
       "      <td>12</td>\n",
       "      <td>NaN</td>\n",
       "      <td>F</td>\n",
       "      <td>173215</td>\n",
       "    </tr>\n",
       "  </tbody>\n",
       "</table>\n",
       "<p>7776 rows × 5 columns</p>\n",
       "</div>"
      ],
      "text/plain": [
       "       year  month  day gender  births\n",
       "0      1969      1  1.0      F    4046\n",
       "2      1969      1  2.0      F    4454\n",
       "4      1969      1  3.0      F    4548\n",
       "6      1969      1  4.0      F    4440\n",
       "8      1969      1  5.0      F    4192\n",
       "...     ...    ...  ...    ...     ...\n",
       "15537  2008      8  NaN      F  182713\n",
       "15539  2008      9  NaN      F  179696\n",
       "15541  2008     10  NaN      F  175314\n",
       "15543  2008     11  NaN      F  158939\n",
       "15545  2008     12  NaN      F  173215\n",
       "\n",
       "[7776 rows x 5 columns]"
      ]
     },
     "execution_count": 4,
     "metadata": {},
     "output_type": "execute_result"
    }
   ],
   "source": [
    "vvs = us_births[us_births.gender == 'F']\n",
    "vvs\n"
   ]
  },
  {
   "cell_type": "code",
   "execution_count": 5,
   "id": "38430ced",
   "metadata": {},
   "outputs": [
    {
     "name": "stdout",
     "output_type": "stream",
     "text": [
      "Sum of female gender : 74035823\n"
     ]
    }
   ],
   "source": [
    "import numpy as np\n",
    "vvs_fb = np.array(vvs['births'])\n",
    "vvs_fb\n",
    "print('Sum of female gender :',vvs_fb.sum())"
   ]
  },
  {
   "cell_type": "code",
   "execution_count": 8,
   "id": "d779c0d3",
   "metadata": {},
   "outputs": [
    {
     "data": {
      "text/html": [
       "<div>\n",
       "<style scoped>\n",
       "    .dataframe tbody tr th:only-of-type {\n",
       "        vertical-align: middle;\n",
       "    }\n",
       "\n",
       "    .dataframe tbody tr th {\n",
       "        vertical-align: top;\n",
       "    }\n",
       "\n",
       "    .dataframe thead th {\n",
       "        text-align: right;\n",
       "    }\n",
       "</style>\n",
       "<table border=\"1\" class=\"dataframe\">\n",
       "  <thead>\n",
       "    <tr style=\"text-align: right;\">\n",
       "      <th></th>\n",
       "      <th>year</th>\n",
       "      <th>month</th>\n",
       "      <th>day</th>\n",
       "      <th>gender</th>\n",
       "      <th>births</th>\n",
       "    </tr>\n",
       "  </thead>\n",
       "  <tbody>\n",
       "    <tr>\n",
       "      <th>1</th>\n",
       "      <td>1969</td>\n",
       "      <td>1</td>\n",
       "      <td>1.0</td>\n",
       "      <td>M</td>\n",
       "      <td>4440</td>\n",
       "    </tr>\n",
       "    <tr>\n",
       "      <th>3</th>\n",
       "      <td>1969</td>\n",
       "      <td>1</td>\n",
       "      <td>2.0</td>\n",
       "      <td>M</td>\n",
       "      <td>4548</td>\n",
       "    </tr>\n",
       "    <tr>\n",
       "      <th>5</th>\n",
       "      <td>1969</td>\n",
       "      <td>1</td>\n",
       "      <td>3.0</td>\n",
       "      <td>M</td>\n",
       "      <td>4994</td>\n",
       "    </tr>\n",
       "    <tr>\n",
       "      <th>7</th>\n",
       "      <td>1969</td>\n",
       "      <td>1</td>\n",
       "      <td>4.0</td>\n",
       "      <td>M</td>\n",
       "      <td>4520</td>\n",
       "    </tr>\n",
       "    <tr>\n",
       "      <th>9</th>\n",
       "      <td>1969</td>\n",
       "      <td>1</td>\n",
       "      <td>5.0</td>\n",
       "      <td>M</td>\n",
       "      <td>4198</td>\n",
       "    </tr>\n",
       "    <tr>\n",
       "      <th>...</th>\n",
       "      <td>...</td>\n",
       "      <td>...</td>\n",
       "      <td>...</td>\n",
       "      <td>...</td>\n",
       "      <td>...</td>\n",
       "    </tr>\n",
       "    <tr>\n",
       "      <th>15538</th>\n",
       "      <td>2008</td>\n",
       "      <td>8</td>\n",
       "      <td>NaN</td>\n",
       "      <td>M</td>\n",
       "      <td>191315</td>\n",
       "    </tr>\n",
       "    <tr>\n",
       "      <th>15540</th>\n",
       "      <td>2008</td>\n",
       "      <td>9</td>\n",
       "      <td>NaN</td>\n",
       "      <td>M</td>\n",
       "      <td>188964</td>\n",
       "    </tr>\n",
       "    <tr>\n",
       "      <th>15542</th>\n",
       "      <td>2008</td>\n",
       "      <td>10</td>\n",
       "      <td>NaN</td>\n",
       "      <td>M</td>\n",
       "      <td>183219</td>\n",
       "    </tr>\n",
       "    <tr>\n",
       "      <th>15544</th>\n",
       "      <td>2008</td>\n",
       "      <td>11</td>\n",
       "      <td>NaN</td>\n",
       "      <td>M</td>\n",
       "      <td>165468</td>\n",
       "    </tr>\n",
       "    <tr>\n",
       "      <th>15546</th>\n",
       "      <td>2008</td>\n",
       "      <td>12</td>\n",
       "      <td>NaN</td>\n",
       "      <td>M</td>\n",
       "      <td>181235</td>\n",
       "    </tr>\n",
       "  </tbody>\n",
       "</table>\n",
       "<p>7771 rows × 5 columns</p>\n",
       "</div>"
      ],
      "text/plain": [
       "       year  month  day gender  births\n",
       "1      1969      1  1.0      M    4440\n",
       "3      1969      1  2.0      M    4548\n",
       "5      1969      1  3.0      M    4994\n",
       "7      1969      1  4.0      M    4520\n",
       "9      1969      1  5.0      M    4198\n",
       "...     ...    ...  ...    ...     ...\n",
       "15538  2008      8  NaN      M  191315\n",
       "15540  2008      9  NaN      M  188964\n",
       "15542  2008     10  NaN      M  183219\n",
       "15544  2008     11  NaN      M  165468\n",
       "15546  2008     12  NaN      M  181235\n",
       "\n",
       "[7771 rows x 5 columns]"
      ]
     },
     "execution_count": 8,
     "metadata": {},
     "output_type": "execute_result"
    }
   ],
   "source": [
    "vvv = us_births[us_births.gender == 'M']\n",
    "vvv"
   ]
  },
  {
   "cell_type": "code",
   "execution_count": 9,
   "id": "895f4076",
   "metadata": {},
   "outputs": [
    {
     "name": "stdout",
     "output_type": "stream",
     "text": [
      "sum of Male births : 77738555\n"
     ]
    }
   ],
   "source": [
    "vvv_mb = np.array(vvv['births'])\n",
    "vvv_mb\n",
    "print('sum of Male births :',vvv_mb.sum())"
   ]
  },
  {
   "cell_type": "code",
   "execution_count": 2,
   "id": "037ae570",
   "metadata": {},
   "outputs": [],
   "source": [
    "from matplotlib import pyplot as plt\n",
    "import numpy as np"
   ]
  },
  {
   "cell_type": "code",
   "execution_count": 18,
   "id": "7f30de34",
   "metadata": {},
   "outputs": [
    {
     "data": {
      "text/plain": [
       "<matplotlib.collections.PathCollection at 0x2746fa1d460>"
      ]
     },
     "execution_count": 18,
     "metadata": {},
     "output_type": "execute_result"
    },
    {
     "data": {
      "image/png": "[encoded data removed]",
      "text/plain": [
       "<Figure size 432x288 with 1 Axes>"
      ]
     },
     "metadata": {
      "needs_background": "light"
     },
     "output_type": "display_data"
    }
   ],
   "source": [
    "from matplotlib import pyplot as plt \n",
    "plt.scatter(us_gender,us_year)\n",
    "# plt.scatter()"
   ]
  },
  {
   "cell_type": "code",
   "execution_count": null,
   "id": "e6d5a085",
   "metadata": {},
   "outputs": [],
   "source": []
  }
 ],
 "metadata": {
  "kernelspec": {
   "display_name": "Python 3 (ipykernel)",
   "language": "python",
   "name": "python3"
  },
  "language_info": {
   "codemirror_mode": {
    "name": "ipython",
    "version": 3
   },
   "file_extension": ".py",
   "mimetype": "text/x-python",
   "name": "python",
   "nbconvert_exporter": "python",
   "pygments_lexer": "ipython3",
   "version": "3.9.7"
  }
 },
 "nbformat": 4,
 "nbformat_minor": 5
}
