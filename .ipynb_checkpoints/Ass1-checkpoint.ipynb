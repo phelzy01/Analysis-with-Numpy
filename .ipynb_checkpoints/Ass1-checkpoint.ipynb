{
 "cells": [
  {
   "cell_type": "code",
   "execution_count": null,
   "id": "2b92a1b2",
   "metadata": {},
   "outputs": [],
   "source": [
    "#use us_births data to compute the following using np:\n",
    "    #extract the year, gender and births column from the data\n",
    "    #compute the aggregation of sum of total birth, sum of female birth and sum of male birth, mean and median\n",
    "    #compute the maximum births and minimum births\n",
    "    #indicate the gender with minimum birth and maximum birth\n",
    "    #indicate the year with minimum birth and maximum birth"
   ]
  },
  {
   "cell_type": "code",
   "execution_count": 31,
   "id": "c12444e3",
   "metadata": {},
   "outputs": [
    {
     "data": {
      "text/html": [
       "<div>\n",
       "<style scoped>\n",
       "    .dataframe tbody tr th:only-of-type {\n",
       "        vertical-align: middle;\n",
       "    }\n",
       "\n",
       "    .dataframe tbody tr th {\n",
       "        vertical-align: top;\n",
       "    }\n",
       "\n",
       "    .dataframe thead th {\n",
       "        text-align: right;\n",
       "    }\n",
       "</style>\n",
       "<table border=\"1\" class=\"dataframe\">\n",
       "  <thead>\n",
       "    <tr style=\"text-align: right;\">\n",
       "      <th></th>\n",
       "      <th>year</th>\n",
       "      <th>month</th>\n",
       "      <th>day</th>\n",
       "      <th>gender</th>\n",
       "      <th>births</th>\n",
       "    </tr>\n",
       "  </thead>\n",
       "  <tbody>\n",
       "    <tr>\n",
       "      <th>0</th>\n",
       "      <td>1969</td>\n",
       "      <td>1</td>\n",
       "      <td>1.0</td>\n",
       "      <td>F</td>\n",
       "      <td>4046</td>\n",
       "    </tr>\n",
       "    <tr>\n",
       "      <th>1</th>\n",
       "      <td>1969</td>\n",
       "      <td>1</td>\n",
       "      <td>1.0</td>\n",
       "      <td>M</td>\n",
       "      <td>4440</td>\n",
       "    </tr>\n",
       "    <tr>\n",
       "      <th>2</th>\n",
       "      <td>1969</td>\n",
       "      <td>1</td>\n",
       "      <td>2.0</td>\n",
       "      <td>F</td>\n",
       "      <td>4454</td>\n",
       "    </tr>\n",
       "    <tr>\n",
       "      <th>3</th>\n",
       "      <td>1969</td>\n",
       "      <td>1</td>\n",
       "      <td>2.0</td>\n",
       "      <td>M</td>\n",
       "      <td>4548</td>\n",
       "    </tr>\n",
       "    <tr>\n",
       "      <th>4</th>\n",
       "      <td>1969</td>\n",
       "      <td>1</td>\n",
       "      <td>3.0</td>\n",
       "      <td>F</td>\n",
       "      <td>4548</td>\n",
       "    </tr>\n",
       "    <tr>\n",
       "      <th>5</th>\n",
       "      <td>1969</td>\n",
       "      <td>1</td>\n",
       "      <td>3.0</td>\n",
       "      <td>M</td>\n",
       "      <td>4994</td>\n",
       "    </tr>\n",
       "    <tr>\n",
       "      <th>6</th>\n",
       "      <td>1969</td>\n",
       "      <td>1</td>\n",
       "      <td>4.0</td>\n",
       "      <td>F</td>\n",
       "      <td>4440</td>\n",
       "    </tr>\n",
       "    <tr>\n",
       "      <th>7</th>\n",
       "      <td>1969</td>\n",
       "      <td>1</td>\n",
       "      <td>4.0</td>\n",
       "      <td>M</td>\n",
       "      <td>4520</td>\n",
       "    </tr>\n",
       "    <tr>\n",
       "      <th>8</th>\n",
       "      <td>1969</td>\n",
       "      <td>1</td>\n",
       "      <td>5.0</td>\n",
       "      <td>F</td>\n",
       "      <td>4192</td>\n",
       "    </tr>\n",
       "    <tr>\n",
       "      <th>9</th>\n",
       "      <td>1969</td>\n",
       "      <td>1</td>\n",
       "      <td>5.0</td>\n",
       "      <td>M</td>\n",
       "      <td>4198</td>\n",
       "    </tr>\n",
       "  </tbody>\n",
       "</table>\n",
       "</div>"
      ],
      "text/plain": [
       "   year  month  day gender  births\n",
       "0  1969      1  1.0      F    4046\n",
       "1  1969      1  1.0      M    4440\n",
       "2  1969      1  2.0      F    4454\n",
       "3  1969      1  2.0      M    4548\n",
       "4  1969      1  3.0      F    4548\n",
       "5  1969      1  3.0      M    4994\n",
       "6  1969      1  4.0      F    4440\n",
       "7  1969      1  4.0      M    4520\n",
       "8  1969      1  5.0      F    4192\n",
       "9  1969      1  5.0      M    4198"
      ]
     },
     "execution_count": 31,
     "metadata": {},
     "output_type": "execute_result"
    }
   ],
   "source": [
    "import numpy as np\n",
    "import pandas as pd\n",
    "us_births = pd.read_csv(\"C:\\\\Users\\\\owner\\\\OneDrive\\\\Desktop\\\\sqi\\\\DATA SCIENCE\\\\Datasets\\\\us_births.csv\")\n",
    "us_births.head(10)\n",
    "\n"
   ]
  },
  {
   "cell_type": "code",
   "execution_count": 7,
   "id": "d5d3b015",
   "metadata": {},
   "outputs": [
    {
     "name": "stdout",
     "output_type": "stream",
     "text": [
      "Year of birth\n",
      " [1969 1969 1969 ... 2008 2008 2008] \n",
      "\n",
      "Gender\n",
      " ['F' 'M' 'F' ... 'M' 'F' 'M'] \n",
      "\n",
      "Births\n",
      " [  4046   4440   4454 ... 165468 173215 181235] \n",
      "\n"
     ]
    }
   ],
   "source": [
    "us_year = np.array(us_births['year'])\n",
    "us_gender = np.array(us_births['gender'])\n",
    "us_b = np.array(us_births['births'])\n",
    "print('Year of birth\\n',us_year,'\\n')\n",
    "print('Gender\\n', us_gender,'\\n')\n",
    "print('Births\\n', us_b,'\\n')"
   ]
  },
  {
   "cell_type": "code",
   "execution_count": 23,
   "id": "b16d51d4",
   "metadata": {},
   "outputs": [
    {
     "name": "stdout",
     "output_type": "stream",
     "text": [
      "Sum of total births:  151774378\n",
      "mean:  9762.293561458802\n",
      "Median:  4814.0\n"
     ]
    }
   ],
   "source": [
    "print('Sum of total births: ', us_b.sum())\n",
    "print('mean: ', us_b.mean())\n",
    "print('Median: ',np.median(us_b))"
   ]
  },
  {
   "cell_type": "code",
   "execution_count": 30,
   "id": "77aca961",
   "metadata": {},
   "outputs": [
    {
     "name": "stdout",
     "output_type": "stream",
     "text": [
      "15514\n",
      "4715\n",
      "gender with maximum birth:  M\n",
      "gender with minimum birth:  F\n",
      "Year with maximum birth:  2007\n",
      "Year with minimum birth:  1975\n"
     ]
    }
   ],
   "source": [
    "# print(us_b.argmax())\n",
    "# print(us_b.argmin())\n",
    "print('gender with maximum birth: ',us_gender[15514])\n",
    "print('gender with minimum birth: ',us_gender[4715])\n",
    "print('Year with maximum birth: ',us_year[15514])\n",
    "print('Year with minimum birth: ',us_year[4715])\n"
   ]
  },
  {
   "cell_type": "code",
   "execution_count": null,
   "id": "ab1fe527",
   "metadata": {},
   "outputs": [],
   "source": []
  }
 ],
 "metadata": {
  "kernelspec": {
   "display_name": "Python 3 (ipykernel)",
   "language": "python",
   "name": "python3"
  },
  "language_info": {
   "codemirror_mode": {
    "name": "ipython",
    "version": 3
   },
   "file_extension": ".py",
   "mimetype": "text/x-python",
   "name": "python",
   "nbconvert_exporter": "python",
   "pygments_lexer": "ipython3",
   "version": "3.9.7"
  }
 },
 "nbformat": 4,
 "nbformat_minor": 5
}
