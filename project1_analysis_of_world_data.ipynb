{
 "cells": [
  {
   "cell_type": "code",
   "execution_count": 72,
   "id": "7d1fcfe6",
   "metadata": {},
   "outputs": [],
   "source": [
    "import numpy as np"
   ]
  },
  {
   "cell_type": "code",
   "execution_count": 73,
   "id": "83dd93dd",
   "metadata": {},
   "outputs": [],
   "source": [
    "import pandas as pd"
   ]
  },
  {
   "cell_type": "code",
   "execution_count": 74,
   "id": "55f46257",
   "metadata": {},
   "outputs": [],
   "source": [
    "from matplotlib import pyplot as plt"
   ]
  },
  {
   "cell_type": "code",
   "execution_count": 71,
   "id": "75f384eb",
   "metadata": {},
   "outputs": [
    {
     "data": {
      "text/html": [
       "<div>\n",
       "<style scoped>\n",
       "    .dataframe tbody tr th:only-of-type {\n",
       "        vertical-align: middle;\n",
       "    }\n",
       "\n",
       "    .dataframe tbody tr th {\n",
       "        vertical-align: top;\n",
       "    }\n",
       "\n",
       "    .dataframe thead th {\n",
       "        text-align: right;\n",
       "    }\n",
       "</style>\n",
       "<table border=\"1\" class=\"dataframe\">\n",
       "  <thead>\n",
       "    <tr style=\"text-align: right;\">\n",
       "      <th></th>\n",
       "      <th>Code</th>\n",
       "      <th>Name</th>\n",
       "      <th>Continent</th>\n",
       "      <th>Region</th>\n",
       "      <th>SurfaceArea</th>\n",
       "      <th>IndepYear</th>\n",
       "      <th>Population</th>\n",
       "      <th>LifeExpectancy</th>\n",
       "      <th>GNP</th>\n",
       "      <th>GNPOld</th>\n",
       "      <th>LocalName</th>\n",
       "      <th>GovernmentForm</th>\n",
       "      <th>HeadOfState</th>\n",
       "      <th>Capital</th>\n",
       "      <th>Code2</th>\n",
       "    </tr>\n",
       "  </thead>\n",
       "  <tbody>\n",
       "    <tr>\n",
       "      <th>0</th>\n",
       "      <td>ABW</td>\n",
       "      <td>Aruba</td>\n",
       "      <td>North America</td>\n",
       "      <td>Caribbean</td>\n",
       "      <td>193.0</td>\n",
       "      <td>NaN</td>\n",
       "      <td>103000</td>\n",
       "      <td>78.4</td>\n",
       "      <td>828.0</td>\n",
       "      <td>793.0</td>\n",
       "      <td>Aruba</td>\n",
       "      <td>Nonmetropolitan Territory of The Netherlands</td>\n",
       "      <td>Beatrix</td>\n",
       "      <td>129.0</td>\n",
       "      <td>AW</td>\n",
       "    </tr>\n",
       "    <tr>\n",
       "      <th>1</th>\n",
       "      <td>AFG</td>\n",
       "      <td>Afghanistan</td>\n",
       "      <td>Asia</td>\n",
       "      <td>Southern and Central Asia</td>\n",
       "      <td>652090.0</td>\n",
       "      <td>1919.0</td>\n",
       "      <td>22720000</td>\n",
       "      <td>45.9</td>\n",
       "      <td>5976.0</td>\n",
       "      <td>NaN</td>\n",
       "      <td>Afganistan/Afqanestan</td>\n",
       "      <td>Islamic Emirate</td>\n",
       "      <td>Mohammad Omar</td>\n",
       "      <td>1.0</td>\n",
       "      <td>AF</td>\n",
       "    </tr>\n",
       "    <tr>\n",
       "      <th>2</th>\n",
       "      <td>AGO</td>\n",
       "      <td>Angola</td>\n",
       "      <td>Africa</td>\n",
       "      <td>Central Africa</td>\n",
       "      <td>1246700.0</td>\n",
       "      <td>1975.0</td>\n",
       "      <td>12878000</td>\n",
       "      <td>38.3</td>\n",
       "      <td>6648.0</td>\n",
       "      <td>7984.0</td>\n",
       "      <td>Angola</td>\n",
       "      <td>Republic</td>\n",
       "      <td>JosÃ© Eduardo dos Santos</td>\n",
       "      <td>56.0</td>\n",
       "      <td>AO</td>\n",
       "    </tr>\n",
       "    <tr>\n",
       "      <th>3</th>\n",
       "      <td>AIA</td>\n",
       "      <td>Anguilla</td>\n",
       "      <td>North America</td>\n",
       "      <td>Caribbean</td>\n",
       "      <td>96.0</td>\n",
       "      <td>NaN</td>\n",
       "      <td>8000</td>\n",
       "      <td>76.1</td>\n",
       "      <td>63.2</td>\n",
       "      <td>NaN</td>\n",
       "      <td>Anguilla</td>\n",
       "      <td>Dependent Territory of the UK</td>\n",
       "      <td>Elisabeth II</td>\n",
       "      <td>62.0</td>\n",
       "      <td>AI</td>\n",
       "    </tr>\n",
       "    <tr>\n",
       "      <th>4</th>\n",
       "      <td>ALB</td>\n",
       "      <td>Albania</td>\n",
       "      <td>Europe</td>\n",
       "      <td>Southern Europe</td>\n",
       "      <td>28748.0</td>\n",
       "      <td>1912.0</td>\n",
       "      <td>3401200</td>\n",
       "      <td>71.6</td>\n",
       "      <td>3205.0</td>\n",
       "      <td>2500.0</td>\n",
       "      <td>ShqipÃ«ria</td>\n",
       "      <td>Republic</td>\n",
       "      <td>Rexhep Mejdani</td>\n",
       "      <td>34.0</td>\n",
       "      <td>AL</td>\n",
       "    </tr>\n",
       "  </tbody>\n",
       "</table>\n",
       "</div>"
      ],
      "text/plain": [
       "  Code         Name      Continent                     Region  SurfaceArea  \\\n",
       "0  ABW        Aruba  North America                  Caribbean        193.0   \n",
       "1  AFG  Afghanistan           Asia  Southern and Central Asia     652090.0   \n",
       "2  AGO       Angola         Africa             Central Africa    1246700.0   \n",
       "3  AIA     Anguilla  North America                  Caribbean         96.0   \n",
       "4  ALB      Albania         Europe            Southern Europe      28748.0   \n",
       "\n",
       "   IndepYear  Population  LifeExpectancy     GNP  GNPOld  \\\n",
       "0        NaN      103000            78.4   828.0   793.0   \n",
       "1     1919.0    22720000            45.9  5976.0     NaN   \n",
       "2     1975.0    12878000            38.3  6648.0  7984.0   \n",
       "3        NaN        8000            76.1    63.2     NaN   \n",
       "4     1912.0     3401200            71.6  3205.0  2500.0   \n",
       "\n",
       "               LocalName                                GovernmentForm  \\\n",
       "0                  Aruba  Nonmetropolitan Territory of The Netherlands   \n",
       "1  Afganistan/Afqanestan                               Islamic Emirate   \n",
       "2                 Angola                                      Republic   \n",
       "3               Anguilla                 Dependent Territory of the UK   \n",
       "4             ShqipÃ«ria                                      Republic   \n",
       "\n",
       "                HeadOfState  Capital Code2  \n",
       "0                   Beatrix    129.0    AW  \n",
       "1             Mohammad Omar      1.0    AF  \n",
       "2  JosÃ© Eduardo dos Santos     56.0    AO  \n",
       "3              Elisabeth II     62.0    AI  \n",
       "4            Rexhep Mejdani     34.0    AL  "
      ]
     },
     "execution_count": 71,
     "metadata": {},
     "output_type": "execute_result"
    }
   ],
   "source": [
    "world = pd.read_csv(\"C:\\\\Users\\\\owner\\\\OneDrive\\\\Desktop\\\\sqi\\\\DATA SCIENCE\\\\Datasets\\\\world.csv\")\n",
    "world.head(5)"
   ]
  },
  {
   "cell_type": "code",
   "execution_count": 30,
   "id": "f75258d9",
   "metadata": {},
   "outputs": [],
   "source": [
    "code= np.array(world['Code'])\n",
    "name = np.array(world['Name'])\n",
    "con = np.array(world['Continent'])\n",
    "region = np.array(world['Region'])\n",
    "pop= np.array(world['Population'])\n",
    "gnp= np.array(world['GNP'])\n",
    "gnpold= np.array(world['GNPOld'])\n",
    "lname = np.array(world['LocalName'])\n",
    "indyear= np.array(world['IndepYear'])"
   ]
  },
  {
   "cell_type": "code",
   "execution_count": null,
   "id": "b2f9cf84",
   "metadata": {},
   "outputs": [],
   "source": [
    "# country with the highest population"
   ]
  },
  {
   "cell_type": "code",
   "execution_count": 68,
   "id": "762d4ced",
   "metadata": {},
   "outputs": [
    {
     "data": {
      "text/plain": [
       "41"
      ]
     },
     "execution_count": 68,
     "metadata": {},
     "output_type": "execute_result"
    }
   ],
   "source": [
    "pop.argmax()\n",
    "pop.argmin()\n",
    "print(\"The country name with the highest population is:\",name[41].upper())"
   ]
  },
  {
   "cell_type": "code",
   "execution_count": null,
   "id": "08bfa5ee",
   "metadata": {},
   "outputs": [],
   "source": [
    "#  Region with the highest/lowest population"
   ]
  },
  {
   "cell_type": "code",
   "execution_count": 63,
   "id": "a348ce43",
   "metadata": {},
   "outputs": [
    {
     "name": "stdout",
     "output_type": "stream",
     "text": [
      "Region with the highest population: Eastern Asia\n",
      "Region with the lowest population: Antarctica\n"
     ]
    }
   ],
   "source": [
    "print('Region with the highest population:',region[41])\n",
    "print('Region with the lowest population:',region[11])"
   ]
  },
  {
   "cell_type": "code",
   "execution_count": 41,
   "id": "9232b9ab",
   "metadata": {},
   "outputs": [
    {
     "name": "stdout",
     "output_type": "stream",
     "text": [
      "The Local name with the highest GNP is: UNITED STATES\n",
      "The Local name with the lowest GNP is: Â–\n"
     ]
    }
   ],
   "source": [
    "# gnp.argmax()\n",
    "# gnp.argmin()\n",
    "print(\"The Local name with the highest GNP is:\",lname[223].upper())\n",
    "print(\"The Local name with the lowest GNP is:\",lname[11].upper())"
   ]
  },
  {
   "cell_type": "code",
   "execution_count": 52,
   "id": "559d5ff4",
   "metadata": {},
   "outputs": [
    {
     "name": "stdout",
     "output_type": "stream",
     "text": [
      "[nan nan nan nan nan nan nan nan nan nan nan nan nan nan nan nan nan nan\n",
      " nan nan nan nan nan nan nan nan nan nan nan nan nan nan nan nan nan nan\n",
      " nan nan nan nan nan nan nan nan nan nan nan] \n",
      "\n",
      "[ 1919.  1975.  1912.  1278.  1971.  1816.  1991.  1981.  1901.  1918.\n",
      "  1991.  1962.  1830.  1960.  1960.  1971.  1908.  1971.  1973.  1992.\n",
      "  1991.  1981.  1825.  1822.  1966.  1984.  1910.  1966.  1960.  1867.\n",
      "  1499.  1810. -1523.  1960.  1960.  1960.  1960.  1810.  1975.  1975.\n",
      "  1821.  1902.  1960.  1993.  1955.  1977.  1978.   800.  1844.  1962.\n",
      "  1822.  1922.  1993.  1492.  1991. -1000.  1917.  1970.   843.  1990.\n",
      "  1960.  1066.  1991.  1957.  1958.  1965.  1974.  1968.  1830.  1974.\n",
      "  1821.  1966.  1838.  1991.  1804.  1918.  1945.  1947.  1921.  1906.\n",
      "  1932.  1944.  1948.  1861.  1962.  1946.  -660.  1991.  1963.  1991.\n",
      "  1953.  1979.  1983.  1948.  1961.  1953.  1941.  1847.  1951.  1979.\n",
      "  1806.  1948.  1966.  1991.  1867.  1991.  1956.  1861.  1991.  1960.\n",
      "  1965.  1810.  1990.  1991.  1960.  1964.  1948.  1921.  1975.  1960.\n",
      "  1968.  1964.  1957.  1990.  1960.  1960.  1838.  1581.  1905.  1769.\n",
      "  1968.  1907.  1951.  1947.  1903.  1821.  1946.  1994.  1975.  1918.\n",
      "  1948.  1143.  1811.  1971.  1878.  1991.  1962.  1932.  1956.  1960.\n",
      "  1965.  1978.  1961.  1841.   885.  1960.  1975.  1975.  1993.  1991.\n",
      "   836.  1968.  1976.  1941.  1960.  1960.  1350.  1991.  1991.  1970.\n",
      "  1962.  1956.  1923.  1978.  1945.  1961.  1962.  1991.  1828.  1776.\n",
      "  1991.  1929.  1979.  1811.  1945.  1980.  1962.  1918.  1918.  1910.\n",
      "  1964.  1980.]\n"
     ]
    }
   ],
   "source": [
    "# printing all the nan and notna in IndepYear\n",
    "indyear\n",
    "ind=pd.isna(indyear)\n",
    "print(indyear[ind],'\\n')\n",
    "indd=pd.notna(indyear)\n",
    "print(indyear[indd])"
   ]
  },
  {
   "cell_type": "code",
   "execution_count": null,
   "id": "2b90b70e",
   "metadata": {},
   "outputs": [],
   "source": [
    "# printing out the nan and notna in gnpold"
   ]
  },
  {
   "cell_type": "code",
   "execution_count": 57,
   "id": "461b8554",
   "metadata": {},
   "outputs": [
    {
     "name": "stdout",
     "output_type": "stream",
     "text": [
      "[nan nan nan nan nan nan nan nan nan nan nan nan nan nan nan nan nan nan\n",
      " nan nan nan nan nan nan nan nan nan nan nan nan nan nan nan nan nan nan\n",
      " nan nan nan nan nan nan nan nan nan nan nan nan nan nan nan nan nan nan\n",
      " nan nan nan nan nan nan nan] \n",
      "\n",
      "[7.930000e+02 7.984000e+03 2.500000e+03 3.684600e+04 3.233100e+05\n",
      " 1.627000e+03 5.840000e+02 3.929110e+05 2.060250e+05 4.100000e+03\n",
      " 9.820000e+02 2.439480e+05 2.141000e+03 2.201000e+03 3.196600e+04\n",
      " 1.016900e+04 6.097000e+03 3.347000e+03 6.160000e+02 2.190000e+03\n",
      " 7.967000e+03 8.041080e+05 2.186000e+03 1.246000e+04 3.830000e+02\n",
      " 4.935000e+03 9.930000e+02 6.256260e+05 2.560920e+05 7.578000e+04\n",
      " 9.177190e+05 1.028500e+04 8.596000e+03 2.474000e+03 2.287000e+03\n",
      " 1.051160e+05 4.361000e+03 4.200000e+02 9.757000e+03 1.886200e+04\n",
      " 1.186000e+03 8.246000e+03 5.203700e+04 2.102826e+06 3.730000e+02\n",
      " 2.430000e+02 1.692640e+05 1.507600e+04 4.696600e+04 1.976900e+04\n",
      " 7.561700e+04 7.550000e+02 5.320310e+05 3.371000e+03 6.180000e+03\n",
      " 1.198330e+05 2.149000e+03 1.392448e+06 5.279000e+03 1.296830e+06\n",
      " 5.924000e+03 6.884000e+03 2.383000e+03 3.250000e+02 2.720000e+02\n",
      " 5.420000e+02 1.199460e+05 1.779700e+04 1.136000e+03 7.430000e+02\n",
      " 1.736100e+05 4.697000e+03 1.930000e+04 3.107000e+03 4.591400e+04\n",
      " 2.150020e+05 4.305720e+05 7.313200e+04 1.601510e+05 7.474000e+03\n",
      " 9.857700e+04 1.145372e+06 6.722000e+03 7.051000e+03 4.192638e+06\n",
      " 2.338300e+04 1.024100e+04 1.767000e+03 5.670000e+03 4.425440e+05\n",
      " 3.037300e+04 1.746000e+03 1.512900e+04 4.056200e+04 1.084000e+03\n",
      " 1.509100e+04 1.161000e+03 9.585000e+03 1.551900e+04 5.639000e+03\n",
      " 5.940000e+03 3.351400e+04 1.872000e+03 3.545000e+03 4.014610e+05\n",
      " 1.915000e+03 2.453000e+03 3.338000e+03 1.710280e+05 9.330000e+02\n",
      " 2.711000e+03 1.081000e+03 2.559000e+03 4.186000e+03 2.527000e+03\n",
      " 9.788400e+04 3.384000e+03 1.580000e+03 5.862300e+04 2.023000e+03\n",
      " 3.604780e+05 1.533700e+05 4.837000e+03 6.496000e+04 1.615300e+04\n",
      " 5.854900e+04 8.700000e+03 6.518600e+04 8.223900e+04 6.328000e+03\n",
      " 1.356360e+05 3.210000e+04 1.021330e+05 9.555000e+03 7.810000e+02\n",
      " 8.920000e+03 7.988000e+03 3.484300e+04 4.429890e+05 1.863000e+03\n",
      " 1.461710e+05 4.542000e+03 9.631800e+04 2.200000e+02 8.580000e+02\n",
      " 1.120300e+04 7.060000e+02 1.945200e+04 1.820200e+04 2.277570e+05\n",
      " 1.312000e+03 5.390000e+02 6.492600e+04 1.102000e+03 1.400000e+03\n",
      " 1.539070e+05 1.056000e+03 2.000000e+03 1.700000e+02 5.867000e+03\n",
      " 1.889800e+04 1.891220e+05 2.634510e+05 7.388000e+03 6.887000e+03\n",
      " 4.967700e+04 1.996700e+04 8.110900e+06 2.130000e+04 8.843400e+04\n",
      " 5.730000e+02 2.283400e+04 2.460000e+02 1.570000e+02 5.729000e+03\n",
      " 1.290920e+05 3.922000e+03 8.670000e+03]\n"
     ]
    }
   ],
   "source": [
    "gnpold\n",
    "gnp = pd.isna(gnpold)\n",
    "print(gnpold[gnp],'\\n')\n",
    "\n",
    "gnpp=pd.notna(gnpold)\n",
    "print(gnpold[gnpp])\n"
   ]
  },
  {
   "cell_type": "code",
   "execution_count": 58,
   "id": "7e51df27",
   "metadata": {},
   "outputs": [],
   "source": [
    "# Highest and lowest continent population"
   ]
  },
  {
   "cell_type": "code",
   "execution_count": 67,
   "id": "0c1a260f",
   "metadata": {},
   "outputs": [
    {
     "name": "stdout",
     "output_type": "stream",
     "text": [
      "Continent with highest population: ASIA\n",
      "Continent with lowest population: ANTARCTICA\n"
     ]
    }
   ],
   "source": [
    "print(\"Continent with highest population:\",con[41].upper())\n",
    "print(\"Continent with lowest population:\",con[11].upper())"
   ]
  },
  {
   "cell_type": "code",
   "execution_count": null,
   "id": "2e8b4397",
   "metadata": {},
   "outputs": [],
   "source": []
  }
 ],
 "metadata": {
  "kernelspec": {
   "display_name": "Python 3 (ipykernel)",
   "language": "python",
   "name": "python3"
  },
  "language_info": {
   "codemirror_mode": {
    "name": "ipython",
    "version": 3
   },
   "file_extension": ".py",
   "mimetype": "text/x-python",
   "name": "python",
   "nbconvert_exporter": "python",
   "pygments_lexer": "ipython3",
   "version": "3.9.7"
  }
 },
 "nbformat": 4,
 "nbformat_minor": 5
}
